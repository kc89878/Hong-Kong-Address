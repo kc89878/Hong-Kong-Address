{
 "cells": [
  {
   "cell_type": "code",
   "execution_count": 1,
   "metadata": {},
   "outputs": [
    {
     "name": "stderr",
     "output_type": "stream",
     "text": [
      "D:\\user\\dt000210.CENTALINE\\AppData\\Roaming\\Python\\Python37\\site-packages\\pandas\\compat\\_optional.py:138: UserWarning: Pandas requires version '2.7.0' or newer of 'numexpr' (version '2.6.9' currently installed).\n",
      "  warnings.warn(msg, UserWarning)\n"
     ]
    }
   ],
   "source": [
    "import pandas as pd\n",
    "import numpy as np\n",
    "import geopandas as gpd\n",
    "import os\n",
    "import glob"
   ]
  },
  {
   "cell_type": "code",
   "execution_count": 4,
   "metadata": {},
   "outputs": [
    {
     "name": "stderr",
     "output_type": "stream",
     "text": [
      "C:\\ProgramData\\Anaconda3\\lib\\site-packages\\ipykernel_launcher.py:9: FutureWarning: Currently, index_parts defaults to True, but in the future, it will default to False to be consistent with Pandas. Use `index_parts=True` to keep the current behavior and True/False to silence the warning.\n",
      "  if __name__ == '__main__':\n",
      "D:\\user\\dt000210.CENTALINE\\AppData\\Roaming\\Python\\Python37\\site-packages\\geopandas\\geoseries.py:924: ShapelyDeprecationWarning: The 'type' attribute is deprecated, and will be removed in the future. You can use the 'geom_type' attribute instead.\n",
      "  if s.type.startswith(\"Multi\") or s.type == \"GeometryCollection\":\n",
      "C:\\ProgramData\\Anaconda3\\lib\\site-packages\\ipykernel_launcher.py:9: FutureWarning: Currently, index_parts defaults to True, but in the future, it will default to False to be consistent with Pandas. Use `index_parts=True` to keep the current behavior and True/False to silence the warning.\n",
      "  if __name__ == '__main__':\n",
      "D:\\user\\dt000210.CENTALINE\\AppData\\Roaming\\Python\\Python37\\site-packages\\geopandas\\geoseries.py:924: ShapelyDeprecationWarning: The 'type' attribute is deprecated, and will be removed in the future. You can use the 'geom_type' attribute instead.\n",
      "  if s.type.startswith(\"Multi\") or s.type == \"GeometryCollection\":\n",
      "C:\\ProgramData\\Anaconda3\\lib\\site-packages\\ipykernel_launcher.py:9: FutureWarning: Currently, index_parts defaults to True, but in the future, it will default to False to be consistent with Pandas. Use `index_parts=True` to keep the current behavior and True/False to silence the warning.\n",
      "  if __name__ == '__main__':\n",
      "D:\\user\\dt000210.CENTALINE\\AppData\\Roaming\\Python\\Python37\\site-packages\\geopandas\\geoseries.py:924: ShapelyDeprecationWarning: The 'type' attribute is deprecated, and will be removed in the future. You can use the 'geom_type' attribute instead.\n",
      "  if s.type.startswith(\"Multi\") or s.type == \"GeometryCollection\":\n",
      "C:\\ProgramData\\Anaconda3\\lib\\site-packages\\ipykernel_launcher.py:9: FutureWarning: Currently, index_parts defaults to True, but in the future, it will default to False to be consistent with Pandas. Use `index_parts=True` to keep the current behavior and True/False to silence the warning.\n",
      "  if __name__ == '__main__':\n",
      "D:\\user\\dt000210.CENTALINE\\AppData\\Roaming\\Python\\Python37\\site-packages\\geopandas\\geoseries.py:924: ShapelyDeprecationWarning: The 'type' attribute is deprecated, and will be removed in the future. You can use the 'geom_type' attribute instead.\n",
      "  if s.type.startswith(\"Multi\") or s.type == \"GeometryCollection\":\n",
      "C:\\ProgramData\\Anaconda3\\lib\\site-packages\\ipykernel_launcher.py:9: FutureWarning: Currently, index_parts defaults to True, but in the future, it will default to False to be consistent with Pandas. Use `index_parts=True` to keep the current behavior and True/False to silence the warning.\n",
      "  if __name__ == '__main__':\n",
      "D:\\user\\dt000210.CENTALINE\\AppData\\Roaming\\Python\\Python37\\site-packages\\geopandas\\geoseries.py:924: ShapelyDeprecationWarning: The 'type' attribute is deprecated, and will be removed in the future. You can use the 'geom_type' attribute instead.\n",
      "  if s.type.startswith(\"Multi\") or s.type == \"GeometryCollection\":\n",
      "C:\\ProgramData\\Anaconda3\\lib\\site-packages\\ipykernel_launcher.py:9: FutureWarning: Currently, index_parts defaults to True, but in the future, it will default to False to be consistent with Pandas. Use `index_parts=True` to keep the current behavior and True/False to silence the warning.\n",
      "  if __name__ == '__main__':\n",
      "D:\\user\\dt000210.CENTALINE\\AppData\\Roaming\\Python\\Python37\\site-packages\\geopandas\\geoseries.py:924: ShapelyDeprecationWarning: The 'type' attribute is deprecated, and will be removed in the future. You can use the 'geom_type' attribute instead.\n",
      "  if s.type.startswith(\"Multi\") or s.type == \"GeometryCollection\":\n",
      "C:\\ProgramData\\Anaconda3\\lib\\site-packages\\ipykernel_launcher.py:9: FutureWarning: Currently, index_parts defaults to True, but in the future, it will default to False to be consistent with Pandas. Use `index_parts=True` to keep the current behavior and True/False to silence the warning.\n",
      "  if __name__ == '__main__':\n",
      "D:\\user\\dt000210.CENTALINE\\AppData\\Roaming\\Python\\Python37\\site-packages\\geopandas\\geoseries.py:924: ShapelyDeprecationWarning: The 'type' attribute is deprecated, and will be removed in the future. You can use the 'geom_type' attribute instead.\n",
      "  if s.type.startswith(\"Multi\") or s.type == \"GeometryCollection\":\n",
      "C:\\ProgramData\\Anaconda3\\lib\\site-packages\\ipykernel_launcher.py:9: FutureWarning: Currently, index_parts defaults to True, but in the future, it will default to False to be consistent with Pandas. Use `index_parts=True` to keep the current behavior and True/False to silence the warning.\n",
      "  if __name__ == '__main__':\n",
      "D:\\user\\dt000210.CENTALINE\\AppData\\Roaming\\Python\\Python37\\site-packages\\geopandas\\geoseries.py:924: ShapelyDeprecationWarning: The 'type' attribute is deprecated, and will be removed in the future. You can use the 'geom_type' attribute instead.\n",
      "  if s.type.startswith(\"Multi\") or s.type == \"GeometryCollection\":\n",
      "C:\\ProgramData\\Anaconda3\\lib\\site-packages\\ipykernel_launcher.py:9: FutureWarning: Currently, index_parts defaults to True, but in the future, it will default to False to be consistent with Pandas. Use `index_parts=True` to keep the current behavior and True/False to silence the warning.\n",
      "  if __name__ == '__main__':\n",
      "D:\\user\\dt000210.CENTALINE\\AppData\\Roaming\\Python\\Python37\\site-packages\\geopandas\\geoseries.py:924: ShapelyDeprecationWarning: The 'type' attribute is deprecated, and will be removed in the future. You can use the 'geom_type' attribute instead.\n",
      "  if s.type.startswith(\"Multi\") or s.type == \"GeometryCollection\":\n",
      "C:\\ProgramData\\Anaconda3\\lib\\site-packages\\ipykernel_launcher.py:9: FutureWarning: Currently, index_parts defaults to True, but in the future, it will default to False to be consistent with Pandas. Use `index_parts=True` to keep the current behavior and True/False to silence the warning.\n",
      "  if __name__ == '__main__':\n",
      "D:\\user\\dt000210.CENTALINE\\AppData\\Roaming\\Python\\Python37\\site-packages\\geopandas\\geoseries.py:924: ShapelyDeprecationWarning: The 'type' attribute is deprecated, and will be removed in the future. You can use the 'geom_type' attribute instead.\n",
      "  if s.type.startswith(\"Multi\") or s.type == \"GeometryCollection\":\n",
      "C:\\ProgramData\\Anaconda3\\lib\\site-packages\\ipykernel_launcher.py:9: FutureWarning: Currently, index_parts defaults to True, but in the future, it will default to False to be consistent with Pandas. Use `index_parts=True` to keep the current behavior and True/False to silence the warning.\n",
      "  if __name__ == '__main__':\n",
      "D:\\user\\dt000210.CENTALINE\\AppData\\Roaming\\Python\\Python37\\site-packages\\geopandas\\geoseries.py:924: ShapelyDeprecationWarning: The 'type' attribute is deprecated, and will be removed in the future. You can use the 'geom_type' attribute instead.\n",
      "  if s.type.startswith(\"Multi\") or s.type == \"GeometryCollection\":\n",
      "C:\\ProgramData\\Anaconda3\\lib\\site-packages\\ipykernel_launcher.py:9: FutureWarning: Currently, index_parts defaults to True, but in the future, it will default to False to be consistent with Pandas. Use `index_parts=True` to keep the current behavior and True/False to silence the warning.\n",
      "  if __name__ == '__main__':\n",
      "D:\\user\\dt000210.CENTALINE\\AppData\\Roaming\\Python\\Python37\\site-packages\\geopandas\\geoseries.py:924: ShapelyDeprecationWarning: The 'type' attribute is deprecated, and will be removed in the future. You can use the 'geom_type' attribute instead.\n",
      "  if s.type.startswith(\"Multi\") or s.type == \"GeometryCollection\":\n",
      "C:\\ProgramData\\Anaconda3\\lib\\site-packages\\ipykernel_launcher.py:9: FutureWarning: Currently, index_parts defaults to True, but in the future, it will default to False to be consistent with Pandas. Use `index_parts=True` to keep the current behavior and True/False to silence the warning.\n",
      "  if __name__ == '__main__':\n",
      "D:\\user\\dt000210.CENTALINE\\AppData\\Roaming\\Python\\Python37\\site-packages\\geopandas\\geoseries.py:924: ShapelyDeprecationWarning: The 'type' attribute is deprecated, and will be removed in the future. You can use the 'geom_type' attribute instead.\n",
      "  if s.type.startswith(\"Multi\") or s.type == \"GeometryCollection\":\n"
     ]
    },
    {
     "name": "stderr",
     "output_type": "stream",
     "text": [
      "C:\\ProgramData\\Anaconda3\\lib\\site-packages\\ipykernel_launcher.py:9: FutureWarning: Currently, index_parts defaults to True, but in the future, it will default to False to be consistent with Pandas. Use `index_parts=True` to keep the current behavior and True/False to silence the warning.\n",
      "  if __name__ == '__main__':\n",
      "D:\\user\\dt000210.CENTALINE\\AppData\\Roaming\\Python\\Python37\\site-packages\\geopandas\\geoseries.py:924: ShapelyDeprecationWarning: The 'type' attribute is deprecated, and will be removed in the future. You can use the 'geom_type' attribute instead.\n",
      "  if s.type.startswith(\"Multi\") or s.type == \"GeometryCollection\":\n",
      "C:\\ProgramData\\Anaconda3\\lib\\site-packages\\ipykernel_launcher.py:9: FutureWarning: Currently, index_parts defaults to True, but in the future, it will default to False to be consistent with Pandas. Use `index_parts=True` to keep the current behavior and True/False to silence the warning.\n",
      "  if __name__ == '__main__':\n",
      "D:\\user\\dt000210.CENTALINE\\AppData\\Roaming\\Python\\Python37\\site-packages\\geopandas\\geoseries.py:924: ShapelyDeprecationWarning: The 'type' attribute is deprecated, and will be removed in the future. You can use the 'geom_type' attribute instead.\n",
      "  if s.type.startswith(\"Multi\") or s.type == \"GeometryCollection\":\n",
      "C:\\ProgramData\\Anaconda3\\lib\\site-packages\\ipykernel_launcher.py:9: FutureWarning: Currently, index_parts defaults to True, but in the future, it will default to False to be consistent with Pandas. Use `index_parts=True` to keep the current behavior and True/False to silence the warning.\n",
      "  if __name__ == '__main__':\n",
      "D:\\user\\dt000210.CENTALINE\\AppData\\Roaming\\Python\\Python37\\site-packages\\geopandas\\geoseries.py:924: ShapelyDeprecationWarning: The 'type' attribute is deprecated, and will be removed in the future. You can use the 'geom_type' attribute instead.\n",
      "  if s.type.startswith(\"Multi\") or s.type == \"GeometryCollection\":\n",
      "C:\\ProgramData\\Anaconda3\\lib\\site-packages\\ipykernel_launcher.py:9: FutureWarning: Currently, index_parts defaults to True, but in the future, it will default to False to be consistent with Pandas. Use `index_parts=True` to keep the current behavior and True/False to silence the warning.\n",
      "  if __name__ == '__main__':\n",
      "D:\\user\\dt000210.CENTALINE\\AppData\\Roaming\\Python\\Python37\\site-packages\\geopandas\\geoseries.py:924: ShapelyDeprecationWarning: The 'type' attribute is deprecated, and will be removed in the future. You can use the 'geom_type' attribute instead.\n",
      "  if s.type.startswith(\"Multi\") or s.type == \"GeometryCollection\":\n",
      "C:\\ProgramData\\Anaconda3\\lib\\site-packages\\ipykernel_launcher.py:9: FutureWarning: Currently, index_parts defaults to True, but in the future, it will default to False to be consistent with Pandas. Use `index_parts=True` to keep the current behavior and True/False to silence the warning.\n",
      "  if __name__ == '__main__':\n",
      "D:\\user\\dt000210.CENTALINE\\AppData\\Roaming\\Python\\Python37\\site-packages\\geopandas\\geoseries.py:924: ShapelyDeprecationWarning: The 'type' attribute is deprecated, and will be removed in the future. You can use the 'geom_type' attribute instead.\n",
      "  if s.type.startswith(\"Multi\") or s.type == \"GeometryCollection\":\n",
      "C:\\ProgramData\\Anaconda3\\lib\\site-packages\\ipykernel_launcher.py:9: FutureWarning: Currently, index_parts defaults to True, but in the future, it will default to False to be consistent with Pandas. Use `index_parts=True` to keep the current behavior and True/False to silence the warning.\n",
      "  if __name__ == '__main__':\n",
      "D:\\user\\dt000210.CENTALINE\\AppData\\Roaming\\Python\\Python37\\site-packages\\geopandas\\geoseries.py:924: ShapelyDeprecationWarning: The 'type' attribute is deprecated, and will be removed in the future. You can use the 'geom_type' attribute instead.\n",
      "  if s.type.startswith(\"Multi\") or s.type == \"GeometryCollection\":\n"
     ]
    }
   ],
   "source": [
    "folder_path = './als_GeoJSON_v296'\n",
    "geojson_files = glob.glob(os.path.join(folder_path, '*.geojson'))\n",
    "for geojson_file in geojson_files:\n",
    "    \n",
    "    data = gpd.read_file(geojson_file)\n",
    "    output_filename = os.path.splitext(os.path.basename(geojson_file))[0]\n",
    "    output_path = os.path.join(folder_path, output_filename + '.xlsx')\n",
    "    \n",
    "    data_exploded = data.explode()\n",
    "    data_flat = pd.json_normalize(data_exploded['Address'])\n",
    "    data_exploded.reset_index(drop=True, inplace=True)\n",
    "    data_final = pd.concat([data_exploded, data_flat], axis=1)\n",
    "    data_final = data_final.drop(columns='Address')\n",
    "\n",
    "    data_final.to_excel(output_path, index=False)"
   ]
  },
  {
   "cell_type": "code",
   "execution_count": 9,
   "metadata": {},
   "outputs": [
    {
     "name": "stdout",
     "output_type": "stream",
     "text": [
      "Reading ./als_address_18\\als_addresses_(central_&_western_district).xlsx...\n",
      "Reading ./als_address_18\\als_addresses_(eastern_district).xlsx...\n",
      "Reading ./als_address_18\\als_addresses_(islands_district).xlsx...\n",
      "Reading ./als_address_18\\als_addresses_(kowloon_city_district).xlsx...\n",
      "Reading ./als_address_18\\als_addresses_(kwai_tsing_district).xlsx...\n",
      "Reading ./als_address_18\\als_addresses_(kwun_tong_district).xlsx...\n",
      "Reading ./als_address_18\\als_addresses_(north_district).xlsx...\n",
      "Reading ./als_address_18\\als_addresses_(sai_kung_district).xlsx...\n",
      "Reading ./als_address_18\\als_addresses_(sham_shui_po_district).xlsx...\n",
      "Reading ./als_address_18\\als_addresses_(sha_tin_district).xlsx...\n",
      "Reading ./als_address_18\\als_addresses_(southern_district).xlsx...\n",
      "Reading ./als_address_18\\als_addresses_(tai_po_district).xlsx...\n",
      "Reading ./als_address_18\\als_addresses_(tsuen_wan_district).xlsx...\n",
      "Reading ./als_address_18\\als_addresses_(tuen_mun_district).xlsx...\n",
      "Reading ./als_address_18\\als_addresses_(wan_chai_district).xlsx...\n",
      "Reading ./als_address_18\\als_addresses_(wong_tai_sin_district).xlsx...\n",
      "Reading ./als_address_18\\als_addresses_(yau_tsim_mong_district).xlsx...\n",
      "Reading ./als_address_18\\als_addresses_(yuen_long_district).xlsx...\n",
      "Combined Excel file saved to ./als_address_18\\combined_addresses.xlsx\n"
     ]
    }
   ],
   "source": [
    "# Set the folder path where the Excel files are stored  \n",
    "folder_path = './als_address_18'  \n",
    "# Get a list of all Excel files in the specified folder  \n",
    "excel_files = glob.glob(os.path.join(folder_path, '*.xlsx'))  \n",
    "\n",
    "# Create an empty list to store DataFrames  \n",
    "dfs = []  \n",
    "\n",
    "# Loop through each Excel file and read it into a DataFrame  \n",
    "for excel_file in excel_files:  \n",
    "    print(f\"Reading {excel_file}...\")  \n",
    "    data = pd.read_excel(excel_file)  \n",
    "    dfs.append(data)  \n",
    "\n",
    "# Combine all DataFrames into one  \n",
    "if dfs:  \n",
    "    combined_df = pd.concat(dfs, ignore_index=True)  \n",
    "    combined_output_path = os.path.join(folder_path, 'combined_addresses.xlsx')  \n",
    "    \n",
    "    # Save the combined DataFrame to a new Excel file  \n",
    "    combined_df.to_excel(combined_output_path, index=False)  \n",
    "    print(f\"Combined Excel file saved to {combined_output_path}\")  \n",
    "else:  \n",
    "    print(\"No Excel files found to combine.\")  "
   ]
  }
 ],
 "metadata": {
  "kernelspec": {
   "display_name": "Python 3",
   "language": "python",
   "name": "python3"
  },
  "language_info": {
   "codemirror_mode": {
    "name": "ipython",
    "version": 3
   },
   "file_extension": ".py",
   "mimetype": "text/x-python",
   "name": "python",
   "nbconvert_exporter": "python",
   "pygments_lexer": "ipython3",
   "version": "3.7.3"
  }
 },
 "nbformat": 4,
 "nbformat_minor": 2
}
